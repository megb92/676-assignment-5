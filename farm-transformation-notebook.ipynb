{
 "cells": [
  {
   "cell_type": "code",
   "execution_count": 1,
   "id": "fd81df05-072c-47cd-b4dc-b3abdbaa8400",
   "metadata": {},
   "outputs": [],
   "source": [
    "import csv\n",
    "import json\n",
    "import requests\n",
    "\n",
    "# for later, when working with local files\n",
    "import glob\n",
    "import os\n",
    "from os.path import join"
   ]
  },
  {
   "cell_type": "code",
   "execution_count": 2,
   "id": "fc347104-09d2-4775-8a40-bcccf62488da",
   "metadata": {},
   "outputs": [],
   "source": [
    "endpoint = 'https://www.loc.gov/free-to-use'\n",
    "parameters = {\n",
    "    'fo' : 'json'\n",
    "}"
   ]
  },
  {
   "cell_type": "code",
   "execution_count": 3,
   "id": "782bf143-ead3-4b6c-a5e4-fe716fa6ca29",
   "metadata": {},
   "outputs": [],
   "source": [
    "collection = 'farm-life'"
   ]
  },
  {
   "cell_type": "code",
   "execution_count": 12,
   "id": "3f80d186-dae5-4e58-a477-522d2daa3879",
   "metadata": {},
   "outputs": [],
   "source": [
    "collection_list_response = requests.get(endpoint + '/' + collection, params=parameters)"
   ]
  },
  {
   "cell_type": "code",
   "execution_count": 16,
   "id": "085b1467-c97a-4dac-9a8d-e79482d2e892",
   "metadata": {},
   "outputs": [],
   "source": [
    "collection_json = collection_list_response.json()"
   ]
  },
  {
   "cell_type": "code",
   "execution_count": 18,
   "id": "f3dfa45e-27a2-4485-a341-2f3263dffb22",
   "metadata": {},
   "outputs": [
    {
     "name": "stdout",
     "output_type": "stream",
     "text": [
      "wrote data\\farm_set_list.csv\n"
     ]
    }
   ],
   "source": [
    "collection_set_list = os.path.join('data','farm_set_list.csv')\n",
    "headers = ['image','link','title','alt'] #alt is description field in this collection\n",
    "\n",
    "with open(collection_set_list, 'w', encoding='utf-8', newline='') as f:\n",
    "    writer = csv.DictWriter(f, fieldnames=headers)\n",
    "    writer.writeheader()\n",
    "    for item in collection_json['content']['set']['items']:\n",
    "        \n",
    "        # clean up errant spaces in the title fields\n",
    "        item['title'] = item['title'].rstrip()\n",
    "        writer.writerow(item)\n",
    "    print('wrote',collection_set_list)"
   ]
  },
  {
   "cell_type": "code",
   "execution_count": 19,
   "id": "44259696-74f1-4b8f-8bfd-6f1bc01c8726",
   "metadata": {},
   "outputs": [],
   "source": [
    "# update endpoint info\n",
    "endpoint = 'https://www.loc.gov'\n",
    "parameters = {\n",
    "    'fo' : 'json'\n",
    "}"
   ]
  },
  {
   "cell_type": "markdown",
   "id": "ccfdcfe0",
   "metadata": {},
   "source": [
    "Query the API:"
   ]
  },
  {
   "cell_type": "code",
   "execution_count": 25,
   "id": "e90cb123-499e-45d9-bc84-586f3245031e",
   "metadata": {},
   "outputs": [
    {
     "name": "stdout",
     "output_type": "stream",
     "text": [
      "requested https://www.loc.gov/resource/ds.00876/?fo=json 200\n",
      "wrote data\\ftu_farms_metadata\\item_metadata-ds.00876.json\n",
      "requested https://www.loc.gov/resource/fsa.8a03169/?fo=json 200\n",
      "wrote data\\ftu_farms_metadata\\item_metadata-fsa.8a03169.json\n",
      "requested https://www.loc.gov/resource/cph.3b48137/?fo=json 200\n",
      "wrote data\\ftu_farms_metadata\\item_metadata-cph.3b48137.json\n",
      "requested https://www.loc.gov/resource/fsa.8b23028/?fo=json 200\n",
      "wrote data\\ftu_farms_metadata\\item_metadata-fsa.8b23028.json\n",
      "requested https://www.loc.gov/resource/fsac.1a34309/?fo=json 200\n",
      "wrote data\\ftu_farms_metadata\\item_metadata-fsac.1a34309.json\n",
      "requested https://www.loc.gov/resource/cph.3c13454/?fo=json 200\n",
      "wrote data\\ftu_farms_metadata\\item_metadata-cph.3c13454.json\n",
      "requested https://www.loc.gov/resource/cph.3b48715/?fo=json 200\n",
      "wrote data\\ftu_farms_metadata\\item_metadata-cph.3b48715.json\n",
      "requested https://www.loc.gov/resource/cph.3b02010/?fo=json 200\n",
      "wrote data\\ftu_farms_metadata\\item_metadata-cph.3b02010.json\n",
      "requested https://www.loc.gov/resource/fsa.8a22637/?fo=json 200\n",
      "wrote data\\ftu_farms_metadata\\item_metadata-fsa.8a22637.json\n",
      "requested https://www.loc.gov/resource/fsac.1a34025/?fo=json 200\n",
      "wrote data\\ftu_farms_metadata\\item_metadata-fsac.1a34025.json\n",
      "requested https://www.loc.gov/resource/cph.3b43254/?fo=json 200\n",
      "wrote data\\ftu_farms_metadata\\item_metadata-cph.3b43254.json\n",
      "requested https://www.loc.gov/resource/afc2012033.afc2012033_00505_ph/?sp=1&fo=json 200\n",
      "wrote data\\ftu_farms_metadata\\item_metadata-afc2012033.afc2012033_00505_ph.json\n",
      "requested https://www.loc.gov/resource/cph.3b03797/?fo=json 200\n",
      "wrote data\\ftu_farms_metadata\\item_metadata-cph.3b03797.json\n",
      "requested https://www.loc.gov/resource/cph.3b19178/?fo=json 200\n",
      "wrote data\\ftu_farms_metadata\\item_metadata-cph.3b19178.json\n",
      "requested https://www.loc.gov/resource/highsm.39522/?fo=json 200\n",
      "wrote data\\ftu_farms_metadata\\item_metadata-highsm.39522.json\n",
      "requested https://www.loc.gov/resource/fsa.8b23005/?fo=json 200\n",
      "wrote data\\ftu_farms_metadata\\item_metadata-fsa.8b23005.json\n",
      "requested https://www.loc.gov/resource/fsac.1a34430/?fo=json 200\n",
      "wrote data\\ftu_farms_metadata\\item_metadata-fsac.1a34430.json\n",
      "requested https://www.loc.gov/resource/highsm.39598/?fo=json 200\n",
      "wrote data\\ftu_farms_metadata\\item_metadata-highsm.39598.json\n",
      "requested https://www.loc.gov/resource/highsm.39467/?fo=json 200\n",
      "wrote data\\ftu_farms_metadata\\item_metadata-highsm.39467.json\n",
      "requested https://www.loc.gov/resource/cph.3b12705/?fo=json 200\n",
      "wrote data\\ftu_farms_metadata\\item_metadata-cph.3b12705.json\n",
      "requested https://www.loc.gov/resource/fsa.8b37746/?fo=json 200\n",
      "wrote data\\ftu_farms_metadata\\item_metadata-fsa.8b37746.json\n",
      "requested https://www.loc.gov/resource/fsa.8b29263/?fo=json 200\n",
      "wrote data\\ftu_farms_metadata\\item_metadata-fsa.8b29263.json\n",
      "requested https://www.loc.gov/resource/fsa.8a03096/?fo=json 200\n",
      "wrote data\\ftu_farms_metadata\\item_metadata-fsa.8a03096.json\n",
      "requested https://www.loc.gov/resource/fsa.8b29289/?fo=json 200\n",
      "wrote data\\ftu_farms_metadata\\item_metadata-fsa.8b29289.json\n",
      "requested https://www.loc.gov/resource/highsm.12441/?fo=json 200\n",
      "wrote data\\ftu_farms_metadata\\item_metadata-highsm.12441.json\n",
      "requested https://www.loc.gov/resource/fsa.8c18248/?fo=json 200\n",
      "wrote data\\ftu_farms_metadata\\item_metadata-fsa.8c18248.json\n",
      "requested https://www.loc.gov/resource/fsac.1a34055/?fo=json 200\n",
      "wrote data\\ftu_farms_metadata\\item_metadata-fsac.1a34055.json\n",
      "requested https://www.loc.gov/resource/highsm.63277/?fo=json 200\n",
      "wrote data\\ftu_farms_metadata\\item_metadata-highsm.63277.json\n",
      "requested https://www.loc.gov/resource/fsa.8c01503/?fo=json 200\n",
      "wrote data\\ftu_farms_metadata\\item_metadata-fsa.8c01503.json\n",
      "requested https://www.loc.gov/resource/afc1982009.afc1982009_le_077/?sp=14&fo=json 200\n",
      "wrote data\\ftu_farms_metadata\\item_metadata-afc1982009.afc1982009_le_077.json\n",
      "requested https://www.loc.gov/resource/cph.3b08594/?fo=json 200\n",
      "wrote data\\ftu_farms_metadata\\item_metadata-cph.3b08594.json\n",
      "requested https://www.loc.gov/resource/pga.05818/?fo=json 200\n",
      "wrote data\\ftu_farms_metadata\\item_metadata-pga.05818.json\n",
      "requested https://www.loc.gov/resource/ppmsca.45904/?fo=json 200\n",
      "wrote data\\ftu_farms_metadata\\item_metadata-ppmsca.45904.json\n",
      "requested https://www.loc.gov/resource/cph.3c18574/?fo=json 200\n",
      "wrote data\\ftu_farms_metadata\\item_metadata-cph.3c18574.json\n",
      "requested https://www.loc.gov/resource/cph.3g14730/?fo=json 200\n",
      "wrote data\\ftu_farms_metadata\\item_metadata-cph.3g14730.json\n",
      "requested https://www.loc.gov/resource/fsa.8b18448/?fo=json 200\n",
      "wrote data\\ftu_farms_metadata\\item_metadata-fsa.8b18448.json\n",
      "requested https://www.loc.gov/resource/fsa.8a25826/?fo=json 200\n",
      "wrote data\\ftu_farms_metadata\\item_metadata-fsa.8a25826.json\n",
      "requested https://www.loc.gov/resource/fsa.8b34470/?fo=json 200\n",
      "wrote data\\ftu_farms_metadata\\item_metadata-fsa.8b34470.json\n",
      "requested https://www.loc.gov/resource/fsa.8b37193/?fo=json 200\n",
      "wrote data\\ftu_farms_metadata\\item_metadata-fsa.8b37193.json\n",
      "requested https://www.loc.gov/resource/fsac.1a34052/?fo=json 200\n",
      "wrote data\\ftu_farms_metadata\\item_metadata-fsac.1a34052.json\n",
      "requested https://www.loc.gov/resource/fsa.8c20646/?fo=json 200\n",
      "wrote data\\ftu_farms_metadata\\item_metadata-fsa.8c20646.json\n",
      "requested https://www.loc.gov/resource/fsa.8b07419/?fo=json 200\n",
      "wrote data\\ftu_farms_metadata\\item_metadata-fsa.8b07419.json\n",
      "requested https://www.loc.gov/resource/fsa.8d07220/?fo=json 200\n",
      "wrote data\\ftu_farms_metadata\\item_metadata-fsa.8d07220.json\n",
      "requested https://www.loc.gov/resource/fsa.8d07366/?fo=json 200\n",
      "wrote data\\ftu_farms_metadata\\item_metadata-fsa.8d07366.json\n",
      "requested https://www.loc.gov/resource/fsa.8d07229/?fo=json 200\n",
      "wrote data\\ftu_farms_metadata\\item_metadata-fsa.8d07229.json\n",
      "requested https://www.loc.gov/resource/fsa.8d12435/?fo=json 200\n",
      "wrote data\\ftu_farms_metadata\\item_metadata-fsa.8d12435.json\n",
      "requested https://www.loc.gov/resource/hhh.in0230.sheet/?sp=5&fo=json 200\n",
      "wrote data\\ftu_farms_metadata\\item_metadata-hhh.in0230.sheet.json\n",
      "requested https://www.loc.gov/resource/hhh.pa1595.photos/?fo=json 200\n",
      "wrote data\\ftu_farms_metadata\\item_metadata-hhh.pa1595.photos.json\n",
      "requested https://www.loc.gov/resource/highsm.33304/?fo=json 200\n",
      "wrote data\\ftu_farms_metadata\\item_metadata-highsm.33304.json\n",
      "requested https://www.loc.gov/resource/highsm.32921/?fo=json 200\n",
      "wrote data\\ftu_farms_metadata\\item_metadata-highsm.32921.json\n",
      "--- mini LOG ---\n",
      "items requested: 50\n",
      "errors: 0\n",
      "files written: 50\n"
     ]
    }
   ],
   "source": [
    "item_count = 0\n",
    "error_count = 0\n",
    "file_count = 0\n",
    "\n",
    "data_directory = 'data'\n",
    "item_metadata_directory = 'ftu_farms_metadata'\n",
    "item_metadata_file_start = 'item_metadata'\n",
    "json_suffix = '.json'\n",
    "\n",
    "collection_set_list = os.path.join('data','farm_set_list.csv')\n",
    "\n",
    "with open(collection_set_list, 'r', encoding='utf-8', newline='') as f:\n",
    "    reader = csv.DictReader(f, fieldnames=headers)\n",
    "    for item in reader:\n",
    "        if item['link'] == 'link':\n",
    "            continue\n",
    "        # these resource links could redirect to item pages, but currently don't work\n",
    "        if '?' in item['link']:\n",
    "            resource_ID = item['link']\n",
    "            short_ID = item['link'].split('/')[2]\n",
    "            item_metadata = requests.get(endpoint + resource_ID + '&fo=json')\n",
    "            print('requested',item_metadata.url,item_metadata.status_code)\n",
    "            if item_metadata.status_code != 200:\n",
    "                print('requested',item_metadata.url,item_metadata.status_code)\n",
    "                error_count += 1\n",
    "                continue\n",
    "            try:\n",
    "                item_metadata.json()\n",
    "            except: #basically this catches all of the highsmith photos with hhh in the ID\n",
    "                error_count += 1\n",
    "                print('no json found')\n",
    "                continue\n",
    "            fout = os.path.join(data_directory, item_metadata_directory, str(item_metadata_file_start + '-' + short_ID + json_suffix))\n",
    "            with open(fout, 'w', encoding='utf-8') as json_file:\n",
    "                json_file.write(json.dumps(item_metadata.json()['item']))\n",
    "                file_count += 1\n",
    "                print('wrote', fout)\n",
    "            item_count += 1\n",
    "        else:\n",
    "            resource_ID = item['link']\n",
    "            short_ID = item['link'].split('/')[2]\n",
    "            item_metadata = requests.get(endpoint + resource_ID, params=parameters)\n",
    "            print('requested',item_metadata.url,item_metadata.status_code)\n",
    "            if item_metadata.status_code != 200:\n",
    "                print('requested',item_metadata.url,item_metadata.status_code)\n",
    "                error_count += 1\n",
    "                continue\n",
    "            try:\n",
    "                item_metadata.json()\n",
    "            except:\n",
    "                error_count += 1\n",
    "                print('no json found')\n",
    "                continue\n",
    "            fout = os.path.join(data_directory, item_metadata_directory, str(item_metadata_file_start + '-' + short_ID + json_suffix))\n",
    "            with open(fout, 'w', encoding='utf-8') as json_file:\n",
    "                json_file.write(json.dumps(item_metadata.json()['item']))\n",
    "                file_count += 1\n",
    "                print('wrote', fout)\n",
    "            item_count += 1\n",
    "\n",
    "print('--- mini LOG ---')\n",
    "print('items requested:',item_count)\n",
    "print('errors:',error_count)\n",
    "print('files written:',file_count)"
   ]
  },
  {
   "cell_type": "markdown",
   "id": "8c45a3bb-b954-44d9-9446-97a049c9b974",
   "metadata": {},
   "source": [
    "## Transformation\n"
   ]
  },
  {
   "cell_type": "code",
   "execution_count": 24,
   "id": "a899bee6-bed9-4240-85ed-1c946110f2f6",
   "metadata": {},
   "outputs": [
    {
     "name": "stdout",
     "output_type": "stream",
     "text": [
      "c:\\Users\\Meghan\\Desktop\\networked-services-labs-main\n"
     ]
    }
   ],
   "source": [
    "current_loc = os.getcwd()\n",
    "\n",
    "print(current_loc)"
   ]
  },
  {
   "cell_type": "code",
   "execution_count": 26,
   "id": "9e195bef-fe55-47e7-a1af-5ecf0c0f324a",
   "metadata": {},
   "outputs": [
    {
     "name": "stdout",
     "output_type": "stream",
     "text": [
      "data\\ftu_farms_metadata\n"
     ]
    }
   ],
   "source": [
    "metadata_file_path = os.path.join('data','ftu_farms_metadata')\n",
    "\n",
    "print(metadata_file_path)"
   ]
  },
  {
   "cell_type": "code",
   "execution_count": 28,
   "id": "6ff4a730-4208-4e63-8531-4b6da696ec0e",
   "metadata": {
    "tags": []
   },
   "outputs": [
    {
     "name": "stdout",
     "output_type": "stream",
     "text": [
      "found 50\n"
     ]
    }
   ],
   "source": [
    "file_count = 0\n",
    "\n",
    "for file in glob.glob('data/ftu_farms_metadata/item_metadata-*.json'):\n",
    "    file_count += 1\n",
    "    #print(file)\n",
    "    \n",
    "print('found',file_count)"
   ]
  },
  {
   "cell_type": "code",
   "execution_count": 29,
   "id": "a8178914-945e-4bc9-a890-b717db15af99",
   "metadata": {},
   "outputs": [],
   "source": [
    "list_of_item_metadata_files = list() \n",
    "for file in glob.glob('data/ftu_farms_metadata/item_metadata-*.json'):\n",
    "    list_of_item_metadata_files.append(file)"
   ]
  },
  {
   "cell_type": "code",
   "execution_count": 30,
   "id": "dded9141-1613-48db-a74c-ddafd86eb247",
   "metadata": {},
   "outputs": [
    {
     "data": {
      "text/plain": [
       "50"
      ]
     },
     "execution_count": 30,
     "metadata": {},
     "output_type": "execute_result"
    }
   ],
   "source": [
    "len(list_of_item_metadata_files)"
   ]
  },
  {
   "cell_type": "markdown",
   "id": "1ec775d7-ab10-45c3-88ad-40706c100967",
   "metadata": {},
   "source": [
    "# Transformation Part 2: Write your CSV\n",
    "\n"
   ]
  },
  {
   "cell_type": "code",
   "execution_count": 32,
   "id": "8279cbef-6e98-4537-a013-5feef216d13a",
   "metadata": {},
   "outputs": [],
   "source": [
    "# for purposes of demonstration, use this block to make sure there isn't already a list file:\n",
    "\n",
    "items_data_file = os.path.join(data_directory, 'farm_collection_items_data.csv')\n",
    "\n",
    "if os.path.isfile(items_data_file):\n",
    "    os.unlink(items_data_file)\n",
    "    print('removed',items_data_file)\n",
    "\n",
    "# clear row_dict\n",
    "row_dict = ()"
   ]
  },
  {
   "cell_type": "code",
   "execution_count": 33,
   "id": "dd445a1a-473f-432b-942b-3cd40fd3cde9",
   "metadata": {},
   "outputs": [
    {
     "name": "stdout",
     "output_type": "stream",
     "text": [
      "2022-12-12\n"
     ]
    }
   ],
   "source": [
    "from datetime import date\n",
    "\n",
    "date_string_for_today = date.today().strftime('%Y-%m-%d') # see https://docs.python.org/3/library/datetime.html#strftime-strptime-behavior\n",
    "\n",
    "print(date_string_for_today)"
   ]
  },
  {
   "cell_type": "code",
   "execution_count": 38,
   "id": "8e6546cb-d74c-46b7-8286-80df234878a8",
   "metadata": {},
   "outputs": [
    {
     "name": "stdout",
     "output_type": "stream",
     "text": [
      "opening data/ftu_farms_metadata\\item_metadata-afc1982009.afc1982009_le_077.json\n",
      "opening data/ftu_farms_metadata\\item_metadata-afc2012033.afc2012033_00505_ph.json\n",
      "opening data/ftu_farms_metadata\\item_metadata-cph.3b02010.json\n",
      "opening data/ftu_farms_metadata\\item_metadata-cph.3b03797.json\n",
      "opening data/ftu_farms_metadata\\item_metadata-cph.3b08594.json\n",
      "opening data/ftu_farms_metadata\\item_metadata-cph.3b12705.json\n",
      "opening data/ftu_farms_metadata\\item_metadata-cph.3b19178.json\n",
      "opening data/ftu_farms_metadata\\item_metadata-cph.3b43254.json\n",
      "opening data/ftu_farms_metadata\\item_metadata-cph.3b48137.json\n",
      "opening data/ftu_farms_metadata\\item_metadata-cph.3b48715.json\n",
      "opening data/ftu_farms_metadata\\item_metadata-cph.3c13454.json\n",
      "opening data/ftu_farms_metadata\\item_metadata-cph.3c18574.json\n",
      "opening data/ftu_farms_metadata\\item_metadata-cph.3g14730.json\n",
      "opening data/ftu_farms_metadata\\item_metadata-ds.00876.json\n",
      "opening data/ftu_farms_metadata\\item_metadata-fsa.8a03096.json\n",
      "opening data/ftu_farms_metadata\\item_metadata-fsa.8a03169.json\n",
      "opening data/ftu_farms_metadata\\item_metadata-fsa.8a22637.json\n",
      "opening data/ftu_farms_metadata\\item_metadata-fsa.8a25826.json\n",
      "opening data/ftu_farms_metadata\\item_metadata-fsa.8b07419.json\n",
      "opening data/ftu_farms_metadata\\item_metadata-fsa.8b18448.json\n",
      "opening data/ftu_farms_metadata\\item_metadata-fsa.8b23005.json\n",
      "opening data/ftu_farms_metadata\\item_metadata-fsa.8b23028.json\n",
      "opening data/ftu_farms_metadata\\item_metadata-fsa.8b29263.json\n",
      "opening data/ftu_farms_metadata\\item_metadata-fsa.8b29289.json\n",
      "opening data/ftu_farms_metadata\\item_metadata-fsa.8b34470.json\n",
      "opening data/ftu_farms_metadata\\item_metadata-fsa.8b37193.json\n",
      "opening data/ftu_farms_metadata\\item_metadata-fsa.8b37746.json\n",
      "opening data/ftu_farms_metadata\\item_metadata-fsa.8c01503.json\n",
      "opening data/ftu_farms_metadata\\item_metadata-fsa.8c18248.json\n",
      "opening data/ftu_farms_metadata\\item_metadata-fsa.8c20646.json\n",
      "opening data/ftu_farms_metadata\\item_metadata-fsa.8d07220.json\n",
      "opening data/ftu_farms_metadata\\item_metadata-fsa.8d07229.json\n",
      "opening data/ftu_farms_metadata\\item_metadata-fsa.8d07366.json\n",
      "opening data/ftu_farms_metadata\\item_metadata-fsa.8d12435.json\n",
      "opening data/ftu_farms_metadata\\item_metadata-fsac.1a34025.json\n",
      "opening data/ftu_farms_metadata\\item_metadata-fsac.1a34052.json\n",
      "opening data/ftu_farms_metadata\\item_metadata-fsac.1a34055.json\n",
      "opening data/ftu_farms_metadata\\item_metadata-fsac.1a34309.json\n",
      "opening data/ftu_farms_metadata\\item_metadata-fsac.1a34430.json\n",
      "opening data/ftu_farms_metadata\\item_metadata-hhh.in0230.sheet.json\n",
      "opening data/ftu_farms_metadata\\item_metadata-hhh.pa1595.photos.json\n",
      "opening data/ftu_farms_metadata\\item_metadata-highsm.12441.json\n",
      "opening data/ftu_farms_metadata\\item_metadata-highsm.32921.json\n",
      "opening data/ftu_farms_metadata\\item_metadata-highsm.33304.json\n",
      "opening data/ftu_farms_metadata\\item_metadata-highsm.39467.json\n",
      "opening data/ftu_farms_metadata\\item_metadata-highsm.39522.json\n",
      "opening data/ftu_farms_metadata\\item_metadata-highsm.39598.json\n",
      "opening data/ftu_farms_metadata\\item_metadata-highsm.63277.json\n",
      "opening data/ftu_farms_metadata\\item_metadata-pga.05818.json\n",
      "opening data/ftu_farms_metadata\\item_metadata-ppmsca.45904.json\n",
      "\n",
      "\n",
      "--- LOG ---\n",
      "0 errors (info not written)\n"
     ]
    }
   ],
   "source": [
    "# set up the containers to create the csv & counters \n",
    "# file for csv to read out\n",
    "collection_info_csv = os.path.join('data','farm_collection_items_data.csv')\n",
    "file_count = 0\n",
    "items_written = 0\n",
    "error_count = 0\n",
    "\n",
    "# add in a couple of extras for Omeka, including item type and date uploaded\n",
    "\n",
    "# set up a list for the columns in your csv\n",
    "headers = ['item_type', 'date_uploaded', 'source_file', 'call_number', 'title', 'creators', 'contributor_names', 'date', 'original_format', 'format', 'subjects', 'description', 'rights_advisory', 'image_url']\n",
    "\n",
    "for file in list_of_item_metadata_files:\n",
    "    file_count += 1\n",
    "    print('opening',file)\n",
    "    with open(file, 'r', encoding='utf-8') as item:\n",
    "        # load the item data\n",
    "        try:\n",
    "            item_data = json.load(item)\n",
    "        except:\n",
    "            print('error loading',file)\n",
    "            error_count += 1\n",
    "            continue\n",
    "\n",
    "        item_type = 'Item'\n",
    "        date_uploaded = date_string_for_today\n",
    "        source_file = str(file)\n",
    "        try:\n",
    "            call_number = item_data['call_number']\n",
    "        except:\n",
    "            call_number = 'Not found'\n",
    "        title = item_data['title']\n",
    "        try:\n",
    "            creators = item_data['item']['creators'][0]['title']\n",
    "        except:\n",
    "            creators = 'Not found'\n",
    "        try:\n",
    "            contributor_names = item_data['contributor_names'][0]\n",
    "        except:\n",
    "            contributor_names = 'Not found'\n",
    "        date = item_data['date']\n",
    "        try:\n",
    "            original_format = item_data['original_format'][0]\n",
    "        except:\n",
    "            original_format = item_data['type'][0]\n",
    "        try:\n",
    "            format = item_data['item']['format'][0]\n",
    "        except:\n",
    "            format = item_data['online_format'][0]\n",
    "        try:\n",
    "            subjects = item_data['item']['subjects']\n",
    "        except:\n",
    "            subjects = 'Not found'\n",
    "        try:\n",
    "            description = item_data['description']\n",
    "        except:\n",
    "            description = 'Not found'\n",
    "        try:\n",
    "            rights_advisory = item_data['rights_advisory']\n",
    "        except:\n",
    "            rights_advisory = 'Undetermined'\n",
    "        try:\n",
    "            image_url = item_data['image_url'][3]\n",
    "        except:\n",
    "            image_url = item_data['resources'][0]['image']\n",
    "\n",
    "\n",
    "        # dictionary for the rows\n",
    "        row_dict = dict()\n",
    "        row_dict['item_type'] = item_type\n",
    "        row_dict['date_uploaded'] = date_uploaded\n",
    "        row_dict['source_file'] = source_file\n",
    "        row_dict['call_number'] = call_number\n",
    "        row_dict['title'] = title\n",
    "        row_dict['creators'] = creators\n",
    "        row_dict['contributor_names'] = contributor_names\n",
    "        row_dict['date'] = date\n",
    "        row_dict['original_format'] = original_format\n",
    "        row_dict['format'] = format\n",
    "        row_dict['subjects'] = subjects\n",
    "        row_dict['description'] = description\n",
    "        row_dict['rights_advisory'] = rights_advisory\n",
    "        row_dict['image_url'] = image_url\n",
    "        #print('created row dictionary:',row_dict)\n",
    "\n",
    "        # write to the csv\n",
    "        with open(collection_info_csv, 'a', encoding='utf-8', newline='') as fout:\n",
    "            writer = csv.DictWriter(fout, fieldnames=headers)\n",
    "            if items_written == 0:\n",
    "                writer.writeheader()\n",
    "            writer.writerow(row_dict)\n",
    "            items_written += 1\n",
    "\n",
    "print('\\n\\n--- LOG ---')\n",
    "#print('wrote',collection_info_csv)\n",
    "#print('with',items_written,'items')\n",
    "print(error_count,'errors (info not written)')"
   ]
  }
 ],
 "metadata": {
  "kernelspec": {
   "display_name": "Python 3.9.5 64-bit",
   "language": "python",
   "name": "python3"
  },
  "language_info": {
   "codemirror_mode": {
    "name": "ipython",
    "version": 3
   },
   "file_extension": ".py",
   "mimetype": "text/x-python",
   "name": "python",
   "nbconvert_exporter": "python",
   "pygments_lexer": "ipython3",
   "version": "3.9.5"
  },
  "vscode": {
   "interpreter": {
    "hash": "42a0c6e04765a0e5c81efcf8de597dc7486eb0428d13934cc701f61f453231d6"
   }
  }
 },
 "nbformat": 4,
 "nbformat_minor": 5
}
